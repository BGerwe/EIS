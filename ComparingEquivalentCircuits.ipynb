{
 "cells": [
  {
   "cell_type": "code",
   "execution_count": 5,
   "metadata": {},
   "outputs": [],
   "source": [
    "import sys\n",
    "from re import split\n",
    "sys.path.append('../../../')\n",
    "import os\n",
    "import pandas as pd\n",
    "import glob\n",
    "import numpy as np\n",
    "from impedance.circuits import Randles, CustomCircuit\n",
    "import matplotlib.pyplot as plt\n",
    "from impedance.plotting import plot_nyquist\n",
    "from impedance import preprocessing"
   ]
  },
  {
   "cell_type": "code",
   "execution_count": 2,
   "metadata": {},
   "outputs": [
    {
     "name": "stdout",
     "output_type": "stream",
     "text": [
      "C:\\Users\\shadd\\OneDrive\\Documents\\Python\\EIS\n",
      "C:\\Users\\shadd\\OneDrive\\Documents\\Python\\EIS\\Data\\Nov 19 frXAS\\OCV_EIS_Before1.z\n"
     ]
    }
   ],
   "source": [
    "# direc=r'\\\\ADLERNAS\\admin\\BrianGerwe\\Research\\Data\\fr-XAS\\July18 Data\\Versastat'\n",
    "direc = r'\\Data\\Nov 19 frXAS'\n",
    "print(os.getcwd())\n",
    "all_files=glob.glob(os.getcwd() + direc + '\\*.z')\n",
    "all_files.sort()\n",
    "\n",
    "f_name=all_files[0]\n",
    "print(f_name)\n",
    "freqs, Z= preprocessing.readZPlot(f_name)"
   ]
  },
  {
   "cell_type": "code",
   "execution_count": 3,
   "metadata": {},
   "outputs": [],
   "source": [
    "# Some initial guess values for all circuits\n",
    "d=266e-9 #thickness of Al2O3 mask\n",
    "A=3e-3*3e-3-(6*1e-3*4e-6) #Area of mask minus area of electrode gates\n",
    "\n",
    "R_elyte=32.8\n",
    "\n",
    "C_if=1.4e-6\n",
    "R_if=15\n",
    "\n",
    "C_mask=9.7*8.854e-12*8.976e-6/266e-9 #permitivity=9.7 thickness=266 nm\n",
    "R_mask=3.54e5*d/A\n",
    "R_chem=1600\n",
    "C_chem=2.23e-4\n",
    "\n",
    "tg_init=10\n",
    "Rg_init=1600\n",
    "\n",
    "main_figsize=(10,7.5)\n",
    "inset_figsize=(6,6)"
   ]
  },
  {
   "cell_type": "code",
   "execution_count": 4,
   "metadata": {},
   "outputs": [
    {
     "name": "stdout",
     "output_type": "stream",
     "text": [
      "Simulating circuit based on initial parameters\n",
      "Simulating circuit based on initial parameters\n",
      "Simulating circuit based on initial parameters\n",
      "Simulating circuit based on initial parameters\n",
      "Simulating circuit based on initial parameters\n",
      "Simulating circuit based on initial parameters\n",
      "Simulating circuit based on initial parameters\n"
     ]
    },
    {
     "data": {
      "text/plain": [
       "<matplotlib.legend.Legend at 0x1c5a9d01358>"
      ]
     },
     "execution_count": 4,
     "metadata": {},
     "output_type": "execute_result"
    },
    {
     "data": {
      "image/png": "[encoded data removed]",
      "text/plain": [
       "<Figure size 720x540 with 1 Axes>"
      ]
     },
     "metadata": {
      "needs_background": "light"
     },
     "output_type": "display_data"
    }
   ],
   "source": [
    "pred_freq = np.logspace(8, -3, num=100)\n",
    "\n",
    "circA = 'p(R2-R3-G1,C1)'\n",
    "initsA = [15, 20, 50, tg_init, 5e-7]\n",
    "\n",
    "circB = 'p(R2,C1)-R3-G1'\n",
    "initsB = [15, 5e-7, 20, 50, tg_init]\n",
    "\n",
    "circC = 'p(C1,R2-p(R3,C2)-G1)'\n",
    "initsC = [5e-7, 15, 20, 1e-6, 50, tg_init]\n",
    "\n",
    "circD = 'p(C1,R2)-p(R3,C2)-G1'\n",
    "initsD = [5e-7, 15, 20, 1e-6, 50, tg_init]\n",
    "\n",
    "circE = 'p(R2-p(R3, C2)-G,C1)'\n",
    "initsE = [15, 20, 1e-6, 50, tg_init, 8e-8]\n",
    "\n",
    "circF = 'p(R2-p(R3, C2)-G,C1, R4)'\n",
    "initsF = [15, 20, 1e-6, 50, tg_init, 8e-8, 10]\n",
    "\n",
    "circG = 'p(R2-p(R3, C2)-G,C1)'\n",
    "initsG = [25, 20+10, 1e-6, 50, tg_init, 8e-8]\n",
    "# initsG = [25, 1/(1/20+1/10), 1e-6, 50, tg_init, 8e-8]\n",
    "\n",
    "\n",
    "testA = CustomCircuit(circA, initial_guess = initsA)\n",
    "predA = testA.predict(pred_freq,use_initial=True)\n",
    "\n",
    "testB = CustomCircuit(circB, initial_guess = initsB)\n",
    "predB = testB.predict(pred_freq,use_initial=True)\n",
    "\n",
    "testC = CustomCircuit(circC, initial_guess = initsC)\n",
    "predC = testC.predict(pred_freq,use_initial=True)\n",
    "\n",
    "testD = CustomCircuit(circD, initial_guess = initsD)\n",
    "predD = testD.predict(pred_freq,use_initial=True)\n",
    "\n",
    "testE = CustomCircuit(circE, initial_guess = initsE)\n",
    "predE = testE.predict(pred_freq,use_initial=True)\n",
    "\n",
    "testF = CustomCircuit(circF, initial_guess = initsF)\n",
    "predF = testF.predict(pred_freq,use_initial=True)\n",
    "\n",
    "testG = CustomCircuit(circG, initial_guess = initsG)\n",
    "predG = testG.predict(pred_freq,use_initial=True)\n",
    "\n",
    "fig1 = plt.figure(figsize = main_figsize)\n",
    "ax0 = fig1.add_subplot(211)\n",
    "plot_nyquist(ax0, pred_freq, predA, fmt='s', label='Circuit A')\n",
    "plot_nyquist(ax0, pred_freq, predB, fmt='s', label='Circuit B')\n",
    "plot_nyquist(ax0, pred_freq, predC, fmt='s', label='Circuit C')\n",
    "# plot_nyquist(ax0, pred_freq, predD, fmt='s', label='Circuit D')\n",
    "# plot_nyquist(ax0, pred_freq, predE, fmt='s', label='Circuit E')\n",
    "# plot_nyquist(ax0, pred_freq, predF, fmt='s', label='Circuit F')\n",
    "# plot_nyquist(ax0, pred_freq, predG, fmt='s', label='Circuit G')\n",
    "ax0.legend()"
   ]
  },
  {
   "cell_type": "code",
   "execution_count": null,
   "metadata": {},
   "outputs": [],
   "source": []
  },
  {
   "cell_type": "code",
   "execution_count": null,
   "metadata": {},
   "outputs": [],
   "source": []
  }
 ],
 "metadata": {
  "kernelspec": {
   "display_name": "Python 3",
   "language": "python",
   "name": "python3"
  },
  "language_info": {
   "codemirror_mode": {
    "name": "ipython",
    "version": 3
   },
   "file_extension": ".py",
   "mimetype": "text/x-python",
   "name": "python",
   "nbconvert_exporter": "python",
   "pygments_lexer": "ipython3",
   "version": "3.6.9"
  }
 },
 "nbformat": 4,
 "nbformat_minor": 4
}
