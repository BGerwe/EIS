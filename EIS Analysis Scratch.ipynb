{
 "cells": [
  {
   "cell_type": "code",
   "execution_count": 1,
   "metadata": {},
   "outputs": [],
   "source": [
    "import sys\n",
    "from re import split\n",
    "sys.path.append('../../../')\n",
    "import os\n",
    "import pandas as pd\n",
    "import glob\n",
    "import numpy as np\n",
    "from impedance.circuits import Randles, CustomCircuit\n",
    "import matplotlib.pyplot as plt\n",
    "from impedance.plotting import plot_nyquist\n",
    "from impedance import preprocessing"
   ]
  },
  {
   "cell_type": "code",
   "execution_count": 2,
   "metadata": {},
   "outputs": [],
   "source": [
    "def FitCirc_Plot(circ, inits, frequencies, Z_data, **kwargs):\n",
    "    \"\"\" Function for fitting and plotting fit results of a defined circuit\n",
    "\n",
    "    Parameters\n",
    "    ----------\n",
    "    circ : string\n",
    "        string defining the equivalent circuit to be fit\n",
    "\n",
    "    inits : list of floats\n",
    "        initial guesses for the fir parameters\n",
    "\n",
    "    frequencies : numpy array\n",
    "        Frequencies\n",
    "\n",
    "    Z_data : numpy array of dtype 'complex128'\n",
    "        Impedance data to be fit\n",
    "\n",
    "    Returns\n",
    "    -------\n",
    "\n",
    "    Notes\n",
    "    -----\n",
    "    Prints fitting results and displays figure of impedance data with fit\n",
    "    and an inset of high frequency data of length specified by kwarg 'inset_len'\n",
    "    with default value 30. Optionally saves \"Main\" Figure and \"Inset\" Figure \n",
    "    if save_figs is True and fig_name is not empty.\n",
    "\n",
    "    \"\"\"\n",
    "    circuit = CustomCircuit(initial_guess = inits, circuit = circ)\n",
    "    circuit.fit(frequencies, Z_data)\n",
    "    print(circuit)\n",
    "\n",
    "    pred_freq = np.logspace(np.log10(frequencies[0]), np.log10(frequencies[-1]), num = freqs.size)\n",
    "    custom_fit = circuit.predict(pred_freq)\n",
    "\n",
    "    fig1 = plt.figure(figsize = main_figsize)\n",
    "    ax0 = fig1.add_subplot(211)\n",
    "    plot_nyquist(ax0, freqs, Z, fmt='s')\n",
    "    plot_nyquist(ax0, pred_freq,custom_fit, fmt='-')\n",
    "    ax0.legend(['Data', 'Custom Circuit'])\n",
    "\n",
    "    if 'inset_len' in kwargs:\n",
    "        inset_len = kwargs['inset_len']\n",
    "        try:\n",
    "            inset_len *= 1\n",
    "        except TypeError:\n",
    "            print('inset_len is not an integer value.')\n",
    "\n",
    "        inset_len = int(inset_len)\n",
    "    else:\n",
    "        inset_len = 30\n",
    "\n",
    "    fig2 = plt.figure(figsize = inset_figsize)\n",
    "    ax1 = fig2.add_subplot(212)\n",
    "    plot_nyquist(ax1, freqs[:inset_len], Z[:inset_len], fmt = 's')\n",
    "    plot_nyquist(ax1, pred_freq[:inset_len], custom_fit[:inset_len], fmt = '-')\n",
    "\n",
    "    if 'save_figs' in kwargs and kwargs['save_figs']==True:\n",
    "        if 'fig_name' not in kwargs:\n",
    "            print('No file name for t')\n",
    "        else:\n",
    "            fig1.savefig(kwargs['fig_name'] + ' Main.png',dpi=300,bbox_inches='tight')\n",
    "            fig2.savefig(kwargs['fig_name'] + ' Inset.png',dpi=300,bbox_inches='tight')\n",
    "            \n",
    "def calcS(Y):\n",
    "    a = np.diff(Y)\n",
    "    b = np.diff(np.conj(Y))\n",
    "    return np.sum(a*b)\n",
    "\n",
    "def calcw(frequencies):\n",
    "    w = 2 * np.pi * frequencies\n",
    "    return w\n",
    "\n",
    "def calcLY(Z, C,  frequencies):\n",
    "    w = calcw(frequencies)\n",
    "    Yel = 1/Z\n",
    "    S = np.zeros(np.size(C), dtype = complex)\n",
    "    \n",
    "    try:\n",
    "        C.dtype\n",
    "        print('Yes array')\n",
    "        for i in range(np.size(C)):\n",
    "            S[i] = calcS(Yel - 1j * w * C[i])\n",
    "    except:\n",
    "        print('No array')\n",
    "        S = calcS(Yel - 1j * w * C)\n",
    "\n",
    "    return np.sqrt(S)\n",
    "\n",
    "def par_cap_subtract(Z, frequencies, C_s):\n",
    "    Yel = 1/Z\n",
    "    Y_corr = Yel - 1j * calcw(frequencies) * C_s\n",
    "    return 1/Y_corr"
   ]
  },
  {
   "cell_type": "code",
   "execution_count": 5,
   "metadata": {},
   "outputs": [
    {
     "name": "stdout",
     "output_type": "stream",
     "text": [
      "C:\\Users\\shadd\\OneDrive\\Documents\\Python\\EIS\n",
      "C:\\Users\\shadd\\OneDrive\\Documents\\Python\\EIS\\Data\\Nov 19 frXAS\\OCV_EIS_Before1.z\n"
     ]
    }
   ],
   "source": [
    "direc = r'\\Data'\n",
    "print(os.getcwd())\n",
    "all_files=glob.glob(os.getcwd() + direc + '\\*.par')\n",
    "all_files.sort()\n",
    "\n",
    "f_name=all_files[1]\n",
    "print(f_name)\n",
    "freqs, Z= preprocessing.readVersaStudio(f_name)"
   ]
  },
  {
   "cell_type": "code",
   "execution_count": 6,
   "metadata": {},
   "outputs": [],
   "source": [
    "# Some initial guess values for all circuits\n",
    "d=266e-9 #thickness of Al2O3 mask\n",
    "A=3e-3*3e-3-(6*1e-3*4e-6) #Area of mask minus area of electrode gates\n",
    "\n",
    "R_elyte=32.8\n",
    "\n",
    "C_if=1.4e-6\n",
    "R_if=15\n",
    "\n",
    "C_mask=9.7*8.854e-12*8.976e-6/266e-9 #permitivity=9.7 thickness=266 nm\n",
    "R_mask=3.54e5*d/A\n",
    "R_chem=1600\n",
    "C_chem=2.23e-4\n",
    "\n",
    "min_ind=np.argmin(np.imag(Z[:]))\n",
    "tg_init=freqs[min_ind]\n",
    "Rg_init=1600\n",
    "\n",
    "main_figsize=(10,7.5)\n",
    "inset_figsize=(6,6)"
   ]
  },
  {
   "cell_type": "code",
   "execution_count": 17,
   "metadata": {},
   "outputs": [
    {
     "name": "stdout",
     "output_type": "stream",
     "text": [
      "No array\n"
     ]
    },
    {
     "name": "stderr",
     "output_type": "stream",
     "text": [
      "C:\\Users\\shadd\\Anaconda3\\lib\\site-packages\\ipykernel_launcher.py:76: RuntimeWarning: divide by zero encountered in true_divide\n",
      "C:\\Users\\shadd\\Anaconda3\\lib\\site-packages\\ipykernel_launcher.py:76: RuntimeWarning: invalid value encountered in true_divide\n"
     ]
    }
   ],
   "source": [
    "LY1=calcLY(Z,1e-5,f)"
   ]
  },
  {
   "cell_type": "code",
   "execution_count": 18,
   "metadata": {},
   "outputs": [
    {
     "name": "stdout",
     "output_type": "stream",
     "text": [
      "No array\n"
     ]
    },
    {
     "name": "stderr",
     "output_type": "stream",
     "text": [
      "C:\\Users\\shadd\\Anaconda3\\lib\\site-packages\\ipykernel_launcher.py:5: RuntimeWarning: divide by zero encountered in true_divide\n",
      "  \"\"\"\n",
      "C:\\Users\\shadd\\Anaconda3\\lib\\site-packages\\ipykernel_launcher.py:5: RuntimeWarning: invalid value encountered in true_divide\n",
      "  \"\"\"\n"
     ]
    }
   ],
   "source": [
    "frequencies = f \n",
    "C= 1e-5\n",
    "\n",
    "w = calcw(frequencies)\n",
    "Yel = 1/Z\n",
    "S = np.zeros(np.size(C), dtype = complex)\n",
    "\n",
    "try:\n",
    "    C.dtype\n",
    "    print('Yes array')\n",
    "    for i in range(np.size(C)):\n",
    "        S[i] = calcS(Yel - 1j * w * C[i])\n",
    "except:\n",
    "    print('No array')\n",
    "    S = calcS(Yel - 1j * w * C)\n",
    "    \n",
    "LY=np.sqrt(S)"
   ]
  },
  {
   "cell_type": "code",
   "execution_count": 21,
   "metadata": {},
   "outputs": [
    {
     "name": "stdout",
     "output_type": "stream",
     "text": [
      "Yes array\n"
     ]
    }
   ],
   "source": [
    "LY1=calcLY(Z[1:],C_guess,f[1:])"
   ]
  },
  {
   "cell_type": "code",
   "execution_count": 29,
   "metadata": {},
   "outputs": [
    {
     "name": "stdout",
     "output_type": "stream",
     "text": [
      "Simulating circuit based on initial parameters\n",
      "Simulating circuit based on initial parameters\n",
      "Simulating circuit based on initial parameters\n",
      "Simulating circuit based on initial parameters\n"
     ]
    },
    {
     "data": {
      "text/plain": [
       "<matplotlib.axes._subplots.AxesSubplot at 0x1d10e7c8>"
      ]
     },
     "execution_count": 29,
     "metadata": {},
     "output_type": "execute_result"
    },
    {
     "data": {
      "image/png": "[encoded data removed]",
      "text/plain": [
       "<Figure size 432x432 with 2 Axes>"
      ]
     },
     "metadata": {
      "needs_background": "light"
     },
     "output_type": "display_data"
    }
   ],
   "source": [
    "circuita=CustomCircuit(initial_guess=[R_elyte,R_if,C_if,R_chem,C_chem],circuit='R0-p(R1,C1)-p(R2,C2)')\n",
    "Pred_a=circuita.predict(pred_freq,use_initial=True)\n",
    "\n",
    "circuitb=CustomCircuit(initial_guess=[R_elyte,C_if,R_if,R_chem,C_chem],circuit='R0-p(C1,R1,p(R2,C2))')\n",
    "Pred_b=circuitb.predict(pred_freq,use_initial=True)\n",
    "\n",
    "circuitc=CustomCircuit(initial_guess=[R_elyte,C_if,R_if,R_chem,C_chem],circuit='R0-p(C1,R1,R2-C2)')\n",
    "Pred_c=circuitc.predict(pred_freq,use_initial=True)\n",
    "\n",
    "circuitd=CustomCircuit(initial_guess=[R_elyte,C_if,R_if,R_chem,C_chem],circuit='R0-p(C1,R1,p(R2,C2))')\n",
    "Pred_s=circuitd.predict(pred_freq,use_initial=True)\n",
    "\n",
    "fig=plt.figure(figsize=(6,6))\n",
    "ax0=fig.add_subplot(211)\n",
    "# plot_nyquist(ax0, pred_freq,Pred_a,fmt='-')\n",
    "plot_nyquist(ax0, pred_freq,Pred_b,fmt='-')\n",
    "plot_nyquist(ax0, pred_freq,Pred_c,fmt='-')\n",
    "\n",
    "ax1=fig.add_subplot(212)\n",
    "\n",
    "plot_nyquist(ax1, pred_freq,Pred_a[:30],fmt='-')\n",
    "plot_nyquist(ax1, pred_freq,Pred_b[:30],fmt='-')\n",
    "plot_nyquist(ax1, pred_freq,Pred_c[:30],fmt='-')"
   ]
  },
  {
   "cell_type": "code",
   "execution_count": 57,
   "metadata": {},
   "outputs": [
    {
     "name": "stdout",
     "output_type": "stream",
     "text": [
      "\n",
      "Circuit string: p(C2,p(R1,C1)-G1)\n",
      "Fit: True\n",
      "\n",
      "Initial guesses:\n",
      "     C2 = 2.90e-09 [F]\n",
      "     R1 = 1.50e+01 [Ohm]\n",
      "     C1 = 1.40e-06 [F]\n",
      "   G1_0 = 2.35e+03 [Ohm^-1 sec^1/2]\n",
      "   G1_1 = 2.15e+00 [sec^-1]\n",
      "\n",
      "Fit parameters:\n",
      "     C2 = 1.66e-05  (+/- 3.89e-06) [F]\n",
      "     R1 = 7.63e+00  (+/- 2.67e+01) [Ohm]\n",
      "     C1 = 6.15e-03  (+/- 2.34e-02) [F]\n",
      "   G1_0 = 1.61e+03  (+/- 5.47e+01) [Ohm^-1 sec^1/2]\n",
      "   G1_1 = 1.29e+00  (+/- 5.11e-02) [sec^-1]\n",
      "\n"
     ]
    },
    {
     "name": "stderr",
     "output_type": "stream",
     "text": [
      "C:\\Users\\Modeling\\Miniconda3\\envs\\impedance-analysis\\lib\\site-packages\\ipykernel_launcher.py:20: RuntimeWarning: divide by zero encountered in true_divide\n",
      "C:\\Users\\Modeling\\Miniconda3\\envs\\impedance-analysis\\lib\\site-packages\\ipykernel_launcher.py:20: RuntimeWarning: invalid value encountered in true_divide\n",
      "C:\\Users\\Modeling\\Miniconda3\\envs\\impedance-analysis\\lib\\site-packages\\ipykernel_launcher.py:24: RuntimeWarning: divide by zero encountered in true_divide\n",
      "C:\\Users\\Modeling\\Miniconda3\\envs\\impedance-analysis\\lib\\site-packages\\ipykernel_launcher.py:24: RuntimeWarning: invalid value encountered in true_divide\n"
     ]
    },
    {
     "data": {
      "text/plain": [
       "<matplotlib.legend.Legend at 0x3c8933c8>"
      ]
     },
     "execution_count": 57,
     "metadata": {},
     "output_type": "execute_result"
    },
    {
     "data": {
      "image/png": "[encoded data removed]",
      "text/plain": [
       "<Figure size 432x432 with 3 Axes>"
      ]
     },
     "metadata": {
      "needs_background": "light"
     },
     "output_type": "display_data"
    }
   ],
   "source": [
    "Z_corr=Z-Z[0]\n",
    "inits=[C_mask,R_if,C_if,Y_init,K_init]\n",
    "circ='p(C2,p(R1,C1)-G1)'\n",
    "\n",
    "circuit7=CustomCircuit(initial_guess=inits,circuit=circ)\n",
    "circuit7.fit(freqs,Z_corr)\n",
    "print(circuit7)\n",
    "\n",
    "pred_freq=np.logspace(np.log10(freqs[0]),np.log10(freqs[-1]),num=freqs.size)\n",
    "custom_fit7=circuit7.predict(pred_freq)\n",
    "\n",
    "C_Al=1e-4\n",
    "\n",
    "fig=plt.figure(figsize=(6,6))\n",
    "ax0=fig.add_subplot(311)\n",
    "plot_nyquist(ax0, freqs, Z_corr,fmt='s')\n",
    "plot_nyquist(ax0, pred_freq,custom_fit7,fmt='-')\n",
    "\n",
    "ax1=fig.add_subplot(312)\n",
    "plot_nyquist(ax1, freqs, 1/(1/Z_corr[:30]-(1j*2*np.pi*freqs[:30]*C_Al)),fmt='s')\n",
    "plot_nyquist(ax1, pred_freq,1/(1/custom_fit7[:30]-(1j*2*np.pi*freqs[:30]*C_Al)),fmt='-')\n",
    "\n",
    "ax2=fig.add_subplot(313)\n",
    "plot_nyquist(ax2, freqs, 1/(1/Z_corr-(1j*2*np.pi*freqs*C_Al)),fmt='s')\n",
    "plot_nyquist(ax2, pred_freq,1/(1/custom_fit7-(1j*2*np.pi*freqs*C_Al)),fmt='-')\n",
    "\n",
    "ax0.legend(['Data','Custom Circuit'])"
   ]
  },
  {
   "cell_type": "code",
   "execution_count": null,
   "metadata": {},
   "outputs": [],
   "source": [
    "#Berthier capacitance subtraction for Circuit 3. Z2=1/jwC\n",
    "\n",
    "fig=plt.figure(figsize=(6,6))\n",
    "ax0=fig.add_subplot(311)\n",
    "plot_nyquist(ax0, freqs, Z_corr,fmt='s')\n",
    "plot_nyquist(ax0, pred_freq,custom_fit7,fmt='-')\n",
    "\n",
    "C_mask=3e-5\n",
    "Z2=1/(1j*freqs*2*np.pi*C_mask)\n",
    "Z_if=R_if/(1+1j*freqs*2*np.pi*R_if*C_if)\n",
    "\n",
    "ax1=fig.add_subplot(312)\n",
    "plot_nyquist(ax1, freqs, 1/(1/Z_corr-1/Z2),fmt='s')\n",
    "plot_nyquist(ax1, pred_freq,1/(1/custom_fit7-1/Z2),fmt='-')\n",
    "\n",
    "ax2=fig.add_subplot(313)\n",
    "plot_nyquist(ax2, freqs, 1/(1/(Z_corr-Z_if)-1/Z2),fmt='s')\n",
    "plot_nyquist(ax2, pred_freq,1/(1/(custom_fit7-Z_if)-1/Z2),fmt='-')\n",
    "\n",
    "ax0.legend(['Data','Custom Circuit'])"
   ]
  },
  {
   "cell_type": "code",
   "execution_count": null,
   "metadata": {},
   "outputs": [],
   "source": [
    "#Berthier capacitance subtraction for Circuit 5. Z2=R/(1+jwC)\n",
    "\n",
    "fig=plt.figure(figsize=(6,6))\n",
    "ax0=fig.add_subplot(311)\n",
    "plot_nyquist(ax0, freqs, Z_corr,fmt='s')\n",
    "plot_nyquist(ax0, pred_freq,custom_fit7,fmt='-')\n",
    "\n",
    "C_mask=3e-5\n",
    "R_mask2=R_mask*.1\n",
    "Z2=R_mask/(1+1j*freqs*2*np.pi*R_mask*C_mask)\n",
    "Z_if=R_if/(1+1j*freqs*2*np.pi*R_if*C_if)\n",
    "\n",
    "ax1=fig.add_subplot(312)\n",
    "plot_nyquist(ax1, freqs, 1/(1/Z_corr-1/Z2),fmt='s')\n",
    "plot_nyquist(ax1, pred_freq,1/(1/custom_fit7-1/Z2),fmt='-')\n",
    "\n",
    "ax2=fig.add_subplot(313)\n",
    "plot_nyquist(ax2, freqs, 1/(1/(Z_corr-Z_if)-1/Z2),fmt='s')\n",
    "plot_nyquist(ax2, pred_freq,1/(1/(custom_fit7-Z_if)-1/Z2),fmt='-')\n",
    "\n",
    "ax0.legend(['Data','Custom Circuit'])"
   ]
  },
  {
   "cell_type": "code",
   "execution_count": 56,
   "metadata": {},
   "outputs": [
    {
     "name": "stdout",
     "output_type": "stream",
     "text": [
      "\n",
      "Circuit string: R0-p(C2,p(R1,C1)-G1)\n",
      "Fit: True\n",
      "\n",
      "Initial guesses:\n",
      "     R0 = 5.80e+01 [Ohm]\n",
      "     C2 = 2.90e-09 [F]\n",
      "     R1 = 1.50e+01 [Ohm]\n",
      "     C1 = 1.40e-06 [F]\n",
      "   G1_0 = 2.35e+03 [Ohm^-1 sec^1/2]\n",
      "   G1_1 = 2.15e+00 [sec^-1]\n",
      "\n",
      "Fit parameters:\n",
      "     R0 = 6.43e+01  (+/- 4.56e+00) [Ohm]\n",
      "     C2 = 1.93e-05  (+/- 4.51e-05) [F]\n",
      "     R1 = 3.90e-11  (+/- 1.30e+02) [Ohm]\n",
      "     C1 = 4.93e+01  (+/- 4.98e-14) [F]\n",
      "   G1_0 = 1.63e+03  (+/- 7.57e+01) [Ohm^-1 sec^1/2]\n",
      "   G1_1 = 1.31e+00  (+/- 1.30e-01) [sec^-1]\n",
      " [6.42613899e+01 1.92508133e-05 3.90276094e-11 4.92556633e+01\n",
      " 1.62616278e+03 1.31297652e+00]\n"
     ]
    }
   ],
   "source": [
    "print(circuit3,circuit3.parameters_)"
   ]
  },
  {
   "cell_type": "code",
   "execution_count": null,
   "metadata": {},
   "outputs": [],
   "source": [
    "# def plot_nyquist(ax, freq, Z, scale=1, units='Ohms', fmt='.-'):\n",
    "#     \"\"\" Convenience function for plotting nyquist plots\n",
    "\n",
    "\n",
    "#         Parameters\n",
    "#         ----------\n",
    "#         ax: matplotlib.axes.Axes\n",
    "#             axes on which to plot the nyquist plot\n",
    "#         freq: np.array of floats\n",
    "#             frequencies\n",
    "#         Z: np.array of complex numbers\n",
    "#             impedance data\n",
    "#         scale: float\n",
    "#             the scale for the axes\n",
    "#         units: string\n",
    "#             units for :math:`Z(\\\\omega)`\n",
    "#         fmt: string\n",
    "#             format string passed to matplotlib (e.g. '.-' or 'o')\n",
    "\n",
    "#         Returns\n",
    "#         -------\n",
    "#         ax: matplotlib.axes.Axes\n",
    "#     \"\"\"\n",
    "\n",
    "#     ax.plot(np.real(Z), -np.imag(Z), fmt, lw=3)\n",
    "\n",
    "#     # Make the axes square\n",
    "#     ax.set_aspect('equal')\n",
    "\n",
    "#     # Set the labels to -imaginary vs real\n",
    "#     ax.set_xlabel(r'$Z^{\\prime}(\\omega)$ ' +\n",
    "#                   '$[{}]$'.format(units), fontsize=20)\n",
    "#     ax.set_ylabel(r'$-Z^{\\prime\\prime}(\\omega)$ ' +\n",
    "#                   '$[{}]$'.format(units), fontsize=20)\n",
    "\n",
    "#     # Make the tick labels larger\n",
    "#     ax.tick_params(axis='both', which='major', labelsize=14)\n",
    "\n",
    "#     # Change the number of labels on each axis to five\n",
    "#     ax.locator_params(axis='x', nbins=5, tight=True)\n",
    "#     ax.locator_params(axis='y', nbins=5, tight=True)\n",
    "\n",
    "#     # Add a light grid\n",
    "#     ax.grid(b=True, which='major', axis='both', alpha=.5)\n",
    "\n",
    "#     # Change axis units to 10**log10(scale) and resize the offset text\n",
    "#     ax.xaxis.set_major_formatter(FixedOrderFormatter(-np.log10(scale)))\n",
    "#     ax.yaxis.set_major_formatter(FixedOrderFormatter(-np.log10(scale)))\n",
    "#     y_offset = ax.yaxis.get_offset_text()\n",
    "#     y_offset.set_size(18)\n",
    "#     t = ax.xaxis.get_offset_text()\n",
    "#     t.set_size(18)\n",
    "\n",
    "#     return ax"
   ]
  },
  {
   "cell_type": "code",
   "execution_count": 232,
   "metadata": {},
   "outputs": [],
   "source": [
    "def plot_bode(fig, freq, Z, scale=1, units='Ohms', fmt='.-'):\n",
    "    \"\"\" Convenience function for plotting Bode plots\n",
    "\n",
    "\n",
    "        Parameters\n",
    "        ----------\n",
    "        ax: matplotlib.axes.Axes\n",
    "            axes on which to plot the nyquist plot\n",
    "        freq: np.array of floats\n",
    "            frequencies\n",
    "        Z: np.array of complex numbers\n",
    "            impedance data\n",
    "        scale: float\n",
    "            the scale for the axes\n",
    "        units: string\n",
    "            units for :math:`Z(\\\\omega)`\n",
    "        fmt: string\n",
    "            format string passed to matplotlib (e.g. '.-' or 'o')\n",
    "\n",
    "        Returns\n",
    "        -------\n",
    "        ax: matplotlib.axes.Axes\n",
    "    \"\"\"\n",
    "    ax = fig.add_subplot(211)\n",
    "    ax.plot(np.log10(freq), np.abs(Z), fmt, lw=3)\n",
    "\n",
    "    ax.set_xlabel(r'$log_{10} \\ f \\ $ ' +\n",
    "                  '$[{}]$'.format('Hz'), fontsize=20)\n",
    "    ax.set_ylabel(r'$|Z|(\\omega)$ ' +\n",
    "                  '$[{}]$'.format(units), fontsize=20)\n",
    "\n",
    "    ax = fig.add_subplot(212)\n",
    "    ax.plot(np.log10(freq), np.angle(Z), fmt, lw=3)\n",
    "\n",
    "    ax.set_xlabel(r'$log_{10} \\ f \\ $ ' +\n",
    "                  '$[{}]$'.format('Hz'), fontsize=20)\n",
    "    ax.set_ylabel(r'$\\phi_Z \\ $ ' +\n",
    "                  '$[{^{\\circ}}]$', fontsize=20)\n",
    "\n",
    "    plt.show()\n",
    "\n",
    "    return ax"
   ]
  },
  {
   "cell_type": "code",
   "execution_count": 230,
   "metadata": {},
   "outputs": [
    {
     "data": {
      "image/png": "[encoded data removed]",
      "text/plain": [
       "<Figure size 432x432 with 2 Axes>"
      ]
     },
     "metadata": {
      "needs_background": "light"
     },
     "output_type": "display_data"
    }
   ],
   "source": [
    "fig = plt.figure(figsize=(6,6))\n",
    "\n",
    "ax0 = fig.add_subplot(211)\n",
    "ax0.plot(np.log10(freq), np.abs(Z), fmt, lw=3)\n",
    "\n",
    "ax0.set_xlabel(r'$log_{10} \\ f \\ $ ' +\n",
    "              '$[{}]$'.format('Hz'), fontsize=20)\n",
    "ax0.set_ylabel(r'$|Z|(\\omega)$ ' +\n",
    "              '$[{}]$'.format(units), fontsize=20)\n",
    "\n",
    "ax0 = fig.add_subplot(212)\n",
    "ax0.plot(np.log10(freq), np.angle(Z), fmt, lw=3)\n",
    "\n",
    "ax0.set_xlabel(r'$log_{10} \\ f \\ $ ' +\n",
    "              '$[{}]$'.format('Hz'), fontsize=20)\n",
    "ax0.set_ylabel(r'$\\phi_Z \\ $ ' +\n",
    "              '$[{^{\\circ}}]$', fontsize=20)\n",
    "\n",
    "plt.show()"
   ]
  },
  {
   "cell_type": "code",
   "execution_count": 234,
   "metadata": {},
   "outputs": [
    {
     "data": {
      "image/png": "[encoded data removed]",
      "text/plain": [
       "<Figure size 432x432 with 2 Axes>"
      ]
     },
     "metadata": {
      "needs_background": "light"
     },
     "output_type": "display_data"
    },
    {
     "data": {
      "text/plain": [
       "<matplotlib.axes._subplots.AxesSubplot at 0x178f049aa90>"
      ]
     },
     "execution_count": 234,
     "metadata": {},
     "output_type": "execute_result"
    }
   ],
   "source": [
    "fig=plt.figure(figsize = (6,6))\n",
    "\n",
    "plot_bode(fig, f, Z ,fmt='.')"
   ]
  },
  {
   "cell_type": "code",
   "execution_count": 20,
   "metadata": {},
   "outputs": [],
   "source": [
    "## Stuff contributed for drawing out circuits\n",
    "## Seems like there's some significant problems with this code\n",
    "def draw_parallel(d, c, eprev):\n",
    "    \"\"\" Function to draw parallel elements of a circuit\n",
    "    \n",
    "    Parameters\n",
    "    ----------\n",
    "    d:\n",
    "    \n",
    "    c:\n",
    "    \n",
    "    eprev:\n",
    "    \n",
    "    Returns\n",
    "    -------\n",
    "    d:\n",
    "    \"\"\"\n",
    "    m = re.search('p\\((.+),(.+)\\)', c)\n",
    "    e1, e2 = m[1], m[2]\n",
    "\n",
    "    h = 1.5\n",
    "    emap = {'R': e.RES, 'C': e.CAP, 'W': WARBURG}\n",
    "\n",
    "    if eprev == 'Parallel':\n",
    "        d.add(e.LINE, d='right', l=h)\n",
    "    d.add(e.DOT)\n",
    "    d.push()\n",
    "    d.add(e.LINE, d='up', l=h)\n",
    "    d.add(emap[e1[0]], label='$'+e1+'$', d='right')\n",
    "    d.add(e.LINE, d='down', l=h)\n",
    "    d.add(e.DOT)\n",
    "    d.pop()\n",
    "    d.add(e.LINE, d='down', l=h)\n",
    "    d.add(emap[e2[0]], label='$'+e2+'$', d='right')\n",
    "    d.add(e.LINE, d='up', l=h)\n",
    "    d.add(e.DOT)\n",
    "\n",
    "    return d\n",
    "\n",
    "def draw_circuit(circuit):\n",
    "    \"\"\" Constructs an SchemDraw drawing of a circuit that is specified as\n",
    "    a string.\n",
    "    \n",
    "    Parameters\n",
    "    ----------\n",
    "    circuit: string\n",
    "        String representation of equivalent circuit\n",
    "    \"\"\"\n",
    "\n",
    "    import SchemDraw as schem\n",
    "    import SchemDraw.elements as e\n",
    "    import re\n",
    "\n",
    "    clist = circuit.split('-')\n",
    "\n",
    "    # define Warburg circuit element\n",
    "    wpath = np.array(\n",
    "        [[-0.25, 0.5], [0, -0.5], [0.25, 0.25], [0.5, -0.5], [0.75, 0.5]])\n",
    "\n",
    "    WARBURG = {\n",
    "        'name': 'WARBURG',\n",
    "        'paths': [0.8*wpath, [[0, 0], [0.5, 0]]],\n",
    "    }\n",
    "\n",
    "    # map circuit elements to drawing fucntions\n",
    "    emap = {'R': e.RES, 'C': e.CAP, 'L': e.INDUCTOR, 'W': WARBURG}\n",
    "\n",
    "    # initialize drawing\n",
    "    dwg = schem.Drawing()\n",
    "\n",
    "   \n",
    "\n",
    "    # main loop\n",
    "    for c in clist:\n",
    "\n",
    "        if c[0] is not 'p':\n",
    "            dwg.add(emap[c[0]], label='$'+c+'$', d='right')\n",
    "            eprev = 'Serial'\n",
    "        else:\n",
    "            dwg = draw_parallel(dwg, c, eprev)\n",
    "            eprev = 'Parallel'\n",
    "\n",
    "    # create image\n",
    "    dwg.draw()\n",
    "\n",
    "    return dwg "
   ]
  },
  {
   "cell_type": "code",
   "execution_count": 19,
   "metadata": {},
   "outputs": [
    {
     "data": {
      "image/png": "[encoded data removed]",
      "text/plain": [
       "<Figure size 126x27 with 1 Axes>"
      ]
     },
     "metadata": {
      "needs_background": "light"
     },
     "output_type": "display_data"
    }
   ],
   "source": [
    "import SchemDraw as schem\n",
    "import SchemDraw.elements as e\n",
    "import re\n",
    "\n",
    "wpath = np.array(\n",
    "        [[-0.25, 0.5], [0, -0.5], [0.25, 0.25], [0.5, -0.5], [0.75, 0.5]])\n",
    "\n",
    "WARBURG = {\n",
    "    'name': 'WARBURG',\n",
    "    'paths': [0.8*wpath, [[0, 0], [0.5, 0]]],\n",
    "}\n",
    "\n",
    "# map circuit elements to drawing fucntions\n",
    "emap = {'R': e.RES, 'C': e.CAP, 'L': e.INDUCTOR, 'W': WARBURG}\n",
    "\n",
    "# initialize drawing\n",
    "dwg = schem.Drawing()\n",
    "\n",
    "dwg.add(emap['R'], label = '$R1$', d='right')\n",
    "\n",
    "dwg.draw()"
   ]
  },
  {
   "cell_type": "code",
   "execution_count": 63,
   "metadata": {},
   "outputs": [
    {
     "data": {
      "text/plain": [
       "4.575431"
      ]
     },
     "execution_count": 63,
     "metadata": {},
     "output_type": "execute_result"
    }
   ],
   "source": [
    "np.max(np.imag(Z))"
   ]
  },
  {
   "cell_type": "code",
   "execution_count": null,
   "metadata": {},
   "outputs": [],
   "source": []
  }
 ],
 "metadata": {
  "kernelspec": {
   "display_name": "Python 3",
   "language": "python",
   "name": "python3"
  },
  "language_info": {
   "codemirror_mode": {
    "name": "ipython",
    "version": 3
   },
   "file_extension": ".py",
   "mimetype": "text/x-python",
   "name": "python",
   "nbconvert_exporter": "python",
   "pygments_lexer": "ipython3",
   "version": "3.6.9"
  }
 },
 "nbformat": 4,
 "nbformat_minor": 4
}
