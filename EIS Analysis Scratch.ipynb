{
 "cells": [
  {
   "cell_type": "code",
   "execution_count": 15,
   "metadata": {},
   "outputs": [],
   "source": [
    "import os\n",
    "import pandas as pd\n",
    "import glob\n",
    "import impedance as imp\n",
    "import numpy as np"
   ]
  },
  {
   "cell_type": "code",
   "execution_count": 13,
   "metadata": {},
   "outputs": [],
   "source": [
    "direc=r'\\\\ADLERNAS\\admin\\BrianGerwe\\Research\\Data\\fr-XAS\\July18 Data\\Versastat'\n",
    "\n",
    "all_files=glob.glob(direc+ '\\*_700C_*_EIS_*.par')"
   ]
  },
  {
   "cell_type": "code",
   "execution_count": 14,
   "metadata": {},
   "outputs": [],
   "source": [
    "all_files.sort()"
   ]
  },
  {
   "cell_type": "code",
   "execution_count": 22,
   "metadata": {},
   "outputs": [
    {
     "name": "stderr",
     "output_type": "stream",
     "text": [
      "Skipping line 24: Expected 1 fields in line 24, saw 2\n",
      "Skipping line 25: Expected 1 fields in line 25, saw 2\n",
      "Skipping line 26: Expected 1 fields in line 26, saw 2\n",
      "Skipping line 27: Expected 1 fields in line 27, saw 2\n",
      "Skipping line 28: Expected 1 fields in line 28, saw 2\n",
      "Skipping line 29: Expected 1 fields in line 29, saw 2\n",
      "Skipping line 48: Expected 1 fields in line 48, saw 2\n",
      "Skipping line 49: Expected 1 fields in line 49, saw 3\n",
      "Skipping line 54: Expected 1 fields in line 54, saw 3\n",
      "Skipping line 106: Expected 1 fields in line 106, saw 2\n",
      "Skipping line 107: Expected 1 fields in line 107, saw 2\n",
      "Skipping line 108: Expected 1 fields in line 108, saw 2\n",
      "Skipping line 109: Expected 1 fields in line 109, saw 2\n",
      "Skipping line 121: Expected 1 fields in line 121, saw 25\n",
      "Skipping line 122: Expected 1 fields in line 122, saw 24\n",
      "Skipping line 123: Expected 1 fields in line 123, saw 24\n",
      "Skipping line 124: Expected 1 fields in line 124, saw 24\n",
      "Skipping line 125: Expected 1 fields in line 125, saw 24\n",
      "Skipping line 126: Expected 1 fields in line 126, saw 24\n",
      "Skipping line 127: Expected 1 fields in line 127, saw 24\n",
      "Skipping line 128: Expected 1 fields in line 128, saw 24\n",
      "Skipping line 129: Expected 1 fields in line 129, saw 24\n",
      "Skipping line 130: Expected 1 fields in line 130, saw 24\n",
      "Skipping line 131: Expected 1 fields in line 131, saw 24\n",
      "Skipping line 132: Expected 1 fields in line 132, saw 24\n",
      "Skipping line 133: Expected 1 fields in line 133, saw 24\n",
      "Skipping line 134: Expected 1 fields in line 134, saw 24\n",
      "Skipping line 135: Expected 1 fields in line 135, saw 24\n",
      "Skipping line 136: Expected 1 fields in line 136, saw 24\n",
      "Skipping line 137: Expected 1 fields in line 137, saw 24\n",
      "Skipping line 138: Expected 1 fields in line 138, saw 24\n",
      "Skipping line 139: Expected 1 fields in line 139, saw 24\n",
      "Skipping line 140: Expected 1 fields in line 140, saw 24\n",
      "Skipping line 141: Expected 1 fields in line 141, saw 24\n",
      "Skipping line 142: Expected 1 fields in line 142, saw 24\n",
      "Skipping line 143: Expected 1 fields in line 143, saw 24\n",
      "Skipping line 144: Expected 1 fields in line 144, saw 24\n",
      "Skipping line 145: Expected 1 fields in line 145, saw 24\n",
      "Skipping line 146: Expected 1 fields in line 146, saw 24\n",
      "Skipping line 147: Expected 1 fields in line 147, saw 24\n",
      "Skipping line 148: Expected 1 fields in line 148, saw 24\n",
      "Skipping line 149: Expected 1 fields in line 149, saw 24\n",
      "Skipping line 150: Expected 1 fields in line 150, saw 24\n",
      "Skipping line 151: Expected 1 fields in line 151, saw 24\n",
      "Skipping line 152: Expected 1 fields in line 152, saw 24\n",
      "Skipping line 153: Expected 1 fields in line 153, saw 24\n",
      "Skipping line 154: Expected 1 fields in line 154, saw 24\n",
      "Skipping line 155: Expected 1 fields in line 155, saw 24\n",
      "Skipping line 156: Expected 1 fields in line 156, saw 24\n",
      "Skipping line 157: Expected 1 fields in line 157, saw 24\n",
      "Skipping line 158: Expected 1 fields in line 158, saw 24\n",
      "Skipping line 159: Expected 1 fields in line 159, saw 24\n",
      "Skipping line 160: Expected 1 fields in line 160, saw 24\n",
      "Skipping line 161: Expected 1 fields in line 161, saw 24\n",
      "Skipping line 162: Expected 1 fields in line 162, saw 24\n",
      "Skipping line 163: Expected 1 fields in line 163, saw 24\n",
      "Skipping line 164: Expected 1 fields in line 164, saw 24\n",
      "Skipping line 165: Expected 1 fields in line 165, saw 24\n",
      "Skipping line 166: Expected 1 fields in line 166, saw 24\n",
      "Skipping line 167: Expected 1 fields in line 167, saw 24\n",
      "Skipping line 168: Expected 1 fields in line 168, saw 24\n",
      "Skipping line 169: Expected 1 fields in line 169, saw 24\n",
      "Skipping line 170: Expected 1 fields in line 170, saw 24\n",
      "Skipping line 171: Expected 1 fields in line 171, saw 24\n",
      "Skipping line 172: Expected 1 fields in line 172, saw 24\n",
      "Skipping line 173: Expected 1 fields in line 173, saw 24\n",
      "Skipping line 174: Expected 1 fields in line 174, saw 24\n",
      "Skipping line 175: Expected 1 fields in line 175, saw 24\n",
      "Skipping line 176: Expected 1 fields in line 176, saw 24\n",
      "Skipping line 177: Expected 1 fields in line 177, saw 24\n",
      "Skipping line 178: Expected 1 fields in line 178, saw 24\n",
      "Skipping line 179: Expected 1 fields in line 179, saw 24\n",
      "Skipping line 180: Expected 1 fields in line 180, saw 24\n",
      "Skipping line 181: Expected 1 fields in line 181, saw 24\n",
      "Skipping line 182: Expected 1 fields in line 182, saw 24\n",
      "Skipping line 458: Expected 1 fields in line 458, saw 2\n"
     ]
    }
   ],
   "source": [
    "dat=pd.read_csv(all_files[0],delimiter=',',engine='python',error_bad_lines=False)"
   ]
  },
  {
   "cell_type": "code",
   "execution_count": 17,
   "metadata": {},
   "outputs": [
    {
     "data": {
      "text/plain": [
       "'\\\\\\\\ADLERNAS\\\\admin\\\\BrianGerwe\\\\Research\\\\Data\\\\fr-XAS\\\\July18 Data\\\\Versastat\\\\LSC_DPB1_FRXAS_700C_1%_EIS_OCV_before.par'"
      ]
     },
     "execution_count": 17,
     "metadata": {},
     "output_type": "execute_result"
    }
   ],
   "source": [
    "all_files[0]"
   ]
  },
  {
   "cell_type": "code",
   "execution_count": null,
   "metadata": {},
   "outputs": [],
   "source": []
  }
 ],
 "metadata": {
  "kernelspec": {
   "display_name": "Python 3",
   "language": "python",
   "name": "python3"
  },
  "language_info": {
   "codemirror_mode": {
    "name": "ipython",
    "version": 3
   },
   "file_extension": ".py",
   "mimetype": "text/x-python",
   "name": "python",
   "nbconvert_exporter": "python",
   "pygments_lexer": "ipython3",
   "version": "3.7.4"
  }
 },
 "nbformat": 4,
 "nbformat_minor": 4
}
